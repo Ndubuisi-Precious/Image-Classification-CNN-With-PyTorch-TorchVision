{
 "cells": [
  {
   "cell_type": "code",
   "execution_count": 1,
   "id": "4db572fe-2071-423c-b86f-19fb5da5929c",
   "metadata": {},
   "outputs": [],
   "source": [
    "import numpy as np\n",
    "from PIL import Image\n",
    "\n",
    "import torch\n",
    "import torch.nn as nn\n",
    "import torch.nn.functional as F\n",
    "#from torch.nn import functional as F\n",
    "import torch.optim as  optim\n",
    "import torchvision\n",
    "import torchvision.transforms as transforms"
   ]
  },
  {
   "cell_type": "code",
   "execution_count": 25,
   "id": "6a889ebd-1863-4ce0-8cf7-f2931a8f2bd1",
   "metadata": {},
   "outputs": [],
   "source": [
    "# Process for this project. Load the data, training and testing the data, train and evaluate the model"
   ]
  },
  {
   "cell_type": "code",
   "execution_count": 7,
   "id": "16d38373-b823-48e9-b936-576a415e0d37",
   "metadata": {},
   "outputs": [],
   "source": [
    "# Data Transformation and Normalization\n",
    "\n",
    "transform = transforms.Compose([\n",
    "    transforms.ToTensor(),\n",
    "    transforms.Normalize((0.5, 0.5, 0.5), (0.5, 0.5, 0.5))\n",
    "    ])"
   ]
  },
  {
   "cell_type": "code",
   "execution_count": 9,
   "id": "57766bd0-7e56-4f27-a8c4-9375ff530e2c",
   "metadata": {},
   "outputs": [
    {
     "name": "stdout",
     "output_type": "stream",
     "text": [
      "Downloading https://www.cs.toronto.edu/~kriz/cifar-10-python.tar.gz to .data/cifar-10-python.tar.gz\n"
     ]
    },
    {
     "name": "stderr",
     "output_type": "stream",
     "text": [
      "100%|████████████████████████████████████████████████████████████████| 170498071/170498071 [03:45<00:00, 756947.37it/s]\n"
     ]
    },
    {
     "name": "stdout",
     "output_type": "stream",
     "text": [
      "Extracting .data/cifar-10-python.tar.gz to .data/\n",
      "Files already downloaded and verified\n"
     ]
    }
   ],
   "source": [
    "# Loading CIFAR-10 Dataset\n",
    "# you can use any CIFAR your choice\n",
    "train_data = torchvision.datasets.CIFAR10(root='.data/', train=True, transform=transform, download=True)\n",
    "test_data = torchvision.datasets.CIFAR10(root='.data/', train=False, transform=transform, download=True)\n",
    "\n",
    "#DataLoader for Batching\n",
    "train_loader = torch.utils.data.DataLoader(train_data, batch_size=32, shuffle=True, num_workers=2)\n",
    "test_loader = torch.utils.data.DataLoader(test_data, batch_size=32, shuffle=True, num_workers=2)"
   ]
  },
  {
   "cell_type": "code",
   "execution_count": 10,
   "id": "ae0b2895",
   "metadata": {},
   "outputs": [],
   "source": [
    "#Sample Data Inspection\n",
    "image, label = train_data[0]"
   ]
  },
  {
   "cell_type": "code",
   "execution_count": 12,
   "id": "67577294",
   "metadata": {},
   "outputs": [
    {
     "data": {
      "text/plain": [
       "torch.Size([3, 32, 32])"
      ]
     },
     "execution_count": 12,
     "metadata": {},
     "output_type": "execute_result"
    }
   ],
   "source": [
    "image.size()"
   ]
  },
  {
   "cell_type": "code",
   "execution_count": 13,
   "id": "1a77f0d2",
   "metadata": {},
   "outputs": [],
   "source": [
    "# Lets create the classes for the image. \n",
    "# These are labels for our 10 classes. Our network will generate the number btw 0-9 rep individual classes\n",
    "class_names = ['plane', 'car', 'bird', 'cat', 'deer', 'dog', 'frog', 'horse', 'ship', 'truck']"
   ]
  },
  {
   "cell_type": "code",
   "execution_count": 20,
   "id": "3b624e63",
   "metadata": {},
   "outputs": [],
   "source": [
    "# Neural Network Definition\n",
    "class NeuralNet(nn.Module):\n",
    "    def __init__(self):\n",
    "        super().__init__()\n",
    "\n",
    "        self.conv1 = nn.Conv2d(3, 12, 5)  # (12, 28, 28)\n",
    "        self.pool = nn.MaxPool2d(2, 2)  # (12, 14, 14)\n",
    "        self.conv2 = nn.Conv2d(12, 24, 5)  # (24, 10, 10) -> (24, 5, 5) -> Flatten(24 * 5 * 5)\n",
    "        self.fc1 = nn.Linear(24 * 5 * 5, 120)  # Corrected to include output features\n",
    "        self.fc2 = nn.Linear(120, 84)\n",
    "        self.fc3 = nn.Linear(84, 10)\n",
    "\n",
    "    def forward(self, x):\n",
    "        x = self.pool(F.relu(self.conv1(x)))\n",
    "        x = self.pool(F.relu(self.conv2(x)))\n",
    "        x = x.view(x.size(0), -1)  # Corrected flattening method\n",
    "        x = F.relu(self.fc1(x))\n",
    "        x = F.relu(self.fc2(x))\n",
    "        x = self.fc3(x)\n",
    "        return x\n"
   ]
  },
  {
   "cell_type": "code",
   "execution_count": 21,
   "id": "4bad318c",
   "metadata": {},
   "outputs": [],
   "source": [
    "# Let's Setup Our Training\n",
    "net = NeuralNet()\n",
    "loss_function = nn.CrossEntropyLoss()\n",
    "optimizer = optim.SGD(net.parameters(), lr=0.001, momentum=0.9)\n"
   ]
  },
  {
   "cell_type": "code",
   "execution_count": 22,
   "id": "a0900c88",
   "metadata": {},
   "outputs": [
    {
     "name": "stdout",
     "output_type": "stream",
     "text": [
      "Training epoch 0...\n",
      "loss: 2.1294\n",
      "Training epoch 1...\n",
      "loss: 1.7483\n",
      "Training epoch 2...\n",
      "loss: 1.5124\n",
      "Training epoch 3...\n",
      "loss: 1.4028\n",
      "Training epoch 4...\n",
      "loss: 1.3130\n",
      "Training epoch 5...\n",
      "loss: 1.2313\n",
      "Training epoch 6...\n",
      "loss: 1.1620\n",
      "Training epoch 7...\n",
      "loss: 1.1026\n",
      "Training epoch 8...\n",
      "loss: 1.0478\n",
      "Training epoch 9...\n",
      "loss: 1.0053\n",
      "Training epoch 10...\n",
      "loss: 0.9620\n",
      "Training epoch 11...\n",
      "loss: 0.9239\n",
      "Training epoch 12...\n",
      "loss: 0.8917\n",
      "Training epoch 13...\n",
      "loss: 0.8604\n",
      "Training epoch 14...\n",
      "loss: 0.8277\n",
      "Training epoch 15...\n",
      "loss: 0.8023\n",
      "Training epoch 16...\n",
      "loss: 0.7730\n",
      "Training epoch 17...\n",
      "loss: 0.7460\n",
      "Training epoch 18...\n",
      "loss: 0.7211\n",
      "Training epoch 19...\n",
      "loss: 0.6961\n",
      "Training epoch 20...\n",
      "loss: 0.6734\n",
      "Training epoch 21...\n",
      "loss: 0.6471\n",
      "Training epoch 22...\n",
      "loss: 0.6245\n",
      "Training epoch 23...\n",
      "loss: 0.6027\n",
      "Training epoch 24...\n",
      "loss: 0.5813\n",
      "Training epoch 25...\n",
      "loss: 0.5600\n",
      "Training epoch 26...\n",
      "loss: 0.5394\n",
      "Training epoch 27...\n",
      "loss: 0.5188\n",
      "Training epoch 28...\n",
      "loss: 0.4981\n",
      "Training epoch 29...\n",
      "loss: 0.4765\n"
     ]
    }
   ],
   "source": [
    "# Training Loop\n",
    "for epoch in range(30):\n",
    "    print(f'Training epoch {epoch}...')\n",
    "\n",
    "    running_loss = 0.0\n",
    "\n",
    "    for i, data in enumerate(train_loader):\n",
    "        inputs, labels = data\n",
    "\n",
    "        optimizer.zero_grad()\n",
    "\n",
    "        outputs = net(inputs)\n",
    "\n",
    "        loss = loss_function(outputs, labels)\n",
    "        loss.backward()\n",
    "        optimizer.step()\n",
    "\n",
    "        running_loss += loss.item()\n",
    "    \n",
    "    print(f'loss: {running_loss / len(train_loader):.4f}')\n"
   ]
  },
  {
   "cell_type": "code",
   "execution_count": 23,
   "id": "ab101dfd",
   "metadata": {},
   "outputs": [],
   "source": [
    "# Saving and Loading the Model\n",
    "torch.save(net.state_dict(), 'trained_net.pth')"
   ]
  },
  {
   "cell_type": "code",
   "execution_count": 24,
   "id": "597dea98",
   "metadata": {},
   "outputs": [
    {
     "data": {
      "text/plain": [
       "<All keys matched successfully>"
      ]
     },
     "execution_count": 24,
     "metadata": {},
     "output_type": "execute_result"
    }
   ],
   "source": [
    "net = NeuralNet()\n",
    "net.load_state_dict(torch.load('trained_net.pth'))"
   ]
  },
  {
   "cell_type": "code",
   "execution_count": 25,
   "id": "45af754c",
   "metadata": {},
   "outputs": [
    {
     "name": "stdout",
     "output_type": "stream",
     "text": [
      "Accuracy: 67.57%\n"
     ]
    }
   ],
   "source": [
    "# Model Evaluation\n",
    "correct = 0\n",
    "total = 0 \n",
    "\n",
    "net.eval()\n",
    "\n",
    "with torch.no_grad():\n",
    "    for data in test_loader:\n",
    "        images, labels = data\n",
    "        outputs = net(images)\n",
    "        _, predicted = torch.max(outputs, 1)\n",
    "        total += labels.size(0)\n",
    "        correct +=(predicted == labels).sum().item() #how many has the correct classification\n",
    "\n",
    "accuracy = 100 * correct / total\n",
    "print(f'Accuracy: {accuracy}%')\n",
    "        "
   ]
  },
  {
   "cell_type": "code",
   "execution_count": 35,
   "id": "6ff37cda",
   "metadata": {},
   "outputs": [
    {
     "name": "stdout",
     "output_type": "stream",
     "text": [
      "Predicted: ship\n",
      "Predicted: plane\n"
     ]
    }
   ],
   "source": [
    "# Image Preprocessing for New Images\n",
    "new_transform = transforms.Compose([\n",
    "\n",
    "    transforms.Resize((32, 32)),\n",
    "    transforms.ToTensor(),\n",
    "    transforms.Normalize((0.5, 0.5, 0.5), (0.5, 0.5, 0.5))\n",
    "])\n",
    "\n",
    "def load_image(image_path):\n",
    "    image = Image.open(image_path)\n",
    "    image = new_transform(image)\n",
    "    image = image.unsqueeze(0)\n",
    "    return image\n",
    "\n",
    "# Image Prediction\n",
    "image_path = ['image1.jpg', 'image2.jpg'] \n",
    "images = [load_image(img) for img in image_path]\n",
    "\n",
    "net.eval()\n",
    "with torch.no_grad():\n",
    "    for image in images:\n",
    "        outputs = net(image)\n",
    "        _, predicted = torch.max(outputs, 1)\n",
    "        print(f'Predicted: {class_names[predicted.item()]}')"
   ]
  }
 ],
 "metadata": {
  "kernelspec": {
   "display_name": "Python 3 (ipykernel)",
   "language": "python",
   "name": "python3"
  },
  "language_info": {
   "codemirror_mode": {
    "name": "ipython",
    "version": 3
   },
   "file_extension": ".py",
   "mimetype": "text/x-python",
   "name": "python",
   "nbconvert_exporter": "python",
   "pygments_lexer": "ipython3",
   "version": "3.12.4"
  }
 },
 "nbformat": 4,
 "nbformat_minor": 5
}
